{
 "cells": [
  {
   "cell_type": "markdown",
   "metadata": {},
   "source": [
    "# My Notebook\n",
    "Use Austin Restaurant inspection report data and spark to get answer to critical consumer questions such as which cuisine or which area rest has more violations in past year etc..."
   ]
  },
  {
   "cell_type": "markdown",
   "metadata": {},
   "source": [
    "## Jupyter Notebook\n",
    "[Jupyter](https://jupyter.org/index.html) is a web-based environment for interactive computing.  Jupyter Notebook enables you to write and execute code within a \"notebook\" in your web browser.  You enter code into an input cell, and when you run the cell, the notebook executes the code and prints any output to an output cell.  You can change the code in an input cell and re-run the cell as often as you like.  In this way, the notebook follows a [Read Evaluate Print Loop](http://en.wikipedia.org/wiki/Read–eval–print_loop) paradigm.\n",
    "\n",
    "Jupyter was born out of the [IPython Project](http://ipython.org) in 2014.\n",
    "\n",
    "But that's not all.  The notebook also supports rendering markup cells (like this one) inline, so you can embed text, [markdown](http://daringfireball.net/projects/markdown/), HTML, images, videos, and even interactive widgets, all within a notebook.\n",
    "\n",
    "The flow of a notebook is top to bottom, and you can create as many cells as you desire.  The interactive nature and the ability to render text and media makes Jupyter Notebook a powerful environment for working with data, performing analyses, and documenting results."
   ]
  },
  {
   "cell_type": "markdown",
   "metadata": {},
   "source": [
    "## Pre-requisites\n",
    "<div class=\"alert alert-block alert-info\" style=\"margin-top: 20px\">**Note:** In the rest of the tutorial, we assume you have a basic familiarity with the Python Programming Language, the Jupyter notebook, `pandas` and `matplotlib`. If you need more background information, we recommend these websites and notebooks:\n",
    "<ul>\n",
    "<li>[Learn Python the Hard Way](http://learnpythonthehardway.org/book/)\n",
    "<li>[Python Programming Language](https://www.python.org/)\n",
    "<li>[IPython Notebook](http://nbviewer.ipython.org/github/ipython/ipython/blob/2.x/examples/Notebook/Index.ipynb)\n",
    "<li>[Jupyter Notebook](http://jupyter.readthedocs.org/en/latest/)\n",
    "<li> [A gallery of interesting Notebooks](https://github.com/ipython/ipython/wiki/A-gallery-of-interesting-IPython-Notebooks)\n",
    "<li>[`pandas`](http://pandas.pydata.org/)\n",
    "<li>[`matplotlib`](http://matplotlib.org)\n",
    "</ul>\n",
    "</div>"
   ]
  },
  {
   "cell_type": "markdown",
   "metadata": {},
   "source": [
    "## Data set\n",
    "\n",
    "I will use **Apache Spark** to analyze raw Restaurant Inspection Scores data from data.austintexas.gov. More specifically we use the raw restaurant scores for inspections performed within the last three years. Online search of this data set also available at: http://www.ci.austin.tx.us/health/restaurant/search.cfm\n",
    "\n",
    "Uploaded local source: Restaurant_Inspection_Scores.csv\n",
    "\n"
   ]
  },
  {
   "cell_type": "markdown",
   "metadata": {},
   "source": [
    "The format of the raw data in the base file consists of the following:\n",
    "\n",
    "<table border=\"1\" style=\"width:90%\">\n",
    "  <tr>\n",
    "    <th>Restaurant Name</th><th>Zip Code</th><th>Inspection Date</th><th>Score</th><th>Address</th><th>Facility ID</th><th>Process Description</th>\n",
    "  </tr>\n",
    "  <tr>\n",
    "    <td>15th Street Cafe</td><td>78701</td><td>12/5/13</td><td>97</td><td>\"303 W 15TH ST\n",
    "AUSTIN, TX 78701\n",
    "    (30.277501963873, -97.7425547470704)\"</td><td>2801033</td><td>Routine Inspection</td>\n",
    "  </tr>\n",
    "  <tr>\n",
    "    <td>15th Street Cafe</td><td>78701</td><td>12/2/14</td><td>93</td><td>\"303 W 15TH ST\n",
    "AUSTIN, TX 78701\n",
    "(30.277501963873, -97.7425547470704)\"</td><td>2801033</td><td>Routine Inspection</td>\n",
    "  </tr>\n",
    "  <tr>\n",
    "    <td>15th Street Cafe</td><td>78701</td><td>6/18/14</td><td>97</td><td>\"303 W 15TH ST\n",
    "AUSTIN, TX 78701\n",
    "(30.277501963873, -97.7425547470704)\"</td><td>2801033</td><td>Routine Inspection</td>\n",
    "  </tr>\n",
    "  <tr>\n",
    "    <td>...</td><td>...</td><td>...</td><td>...</td><td>...</td><td>...</td><td>...</td>\n",
    "  </tr>\n",
    "</table>\n",
    "<p>\n",
    "\n",
    "where columns contain a Restaurant Name, Zip Code, Inspection Date,\tScore, Address,\tFacility ID, Process Description."
   ]
  },
  {
   "cell_type": "markdown",
   "metadata": {},
   "source": [
    "## Load Data\n",
    "**[pandas](http://pandas-docs.github.io/pandas-docs-travis/)** is a useful Python package for managing structured data.  The two primary data structures of pandas are [`Series`](http://pandas-docs.github.io/pandas-docs-travis/dsintro.html#series) (1-dimensional) and [`DataFrame`](http://pandas-docs.github.io/pandas-docs-travis/dsintro.html#dataframe) (2-dimensional).\n",
    "\n",
    "In the following steps, we'll load the annual precipitation CSV file into a DataFrame in memory.\n",
    "\n",
    "Click on the play (**&#9658;**) button in the notebook **Toolbar** to run code cells. The code will be executed. During that time a `[*]` is shown on the left side to indicate that the cell is running. Once it completes, the `[*]` is replaced by a number indicating that it is the Nth cell to run in the notebook.\n",
    "\n",
    "<div class=\"alert alert-block alert-info\" style=\"margin-top: 20px\">**Note:** For notebooks, many third-party Python packages are pre-installed. The **Environment** panel on the **Palette** displays a list of pre-installed packages which are important for data analysis. To see the full list of pre-installed packages, run `!pip freeze` in a code cell.</div>"
   ]
  },
  {
   "cell_type": "markdown",
   "metadata": {},
   "source": [
    "### Step 1: Import packages into our notebook.\n",
    "Click on the code cell below, then click the right arrow button (**&#9658;**) in the notebook **Toolbar** to run the code."
   ]
  },
  {
   "cell_type": "code",
   "execution_count": 144,
   "metadata": {
    "collapsed": true
   },
   "outputs": [],
   "source": [
    "import requests, StringIO, pandas as pd, json, re"
   ]
  },
  {
   "cell_type": "markdown",
   "metadata": {},
   "source": [
    "You have imported the `requests`, `base64`, `StringIO`, `pandas` and the `re` package and can make use of them within this notebook. Pandas is traditionally imported as `pd`. "
   ]
  },
  {
   "cell_type": "markdown",
   "metadata": {},
   "source": [
    "### Step 2: Access Object Storage\n",
    "\n",
    "Because the CSV file is located in Object Storage, we need a helper function to access the file using provided credentials. Run the cell below to define the method `getFileContent`.\n"
   ]
  },
  {
   "cell_type": "code",
   "execution_count": 145,
   "metadata": {
    "collapsed": true
   },
   "outputs": [],
   "source": [
    "'''A function returning a StringIO object containg the file content.'''\n",
    "def getFileContent(credentials):\n",
    "    url1 = ''.join([credentials['auth_url'], '/v3/auth/tokens'])\n",
    "    data = {'auth': {'identity': {'methods': ['password'],\n",
    "            'password': {'user': {'name': credentials['username'],'domain': {'id': credentials['domain_id']},\n",
    "            'password': credentials['password']}}}}}\n",
    "    headers1 = {'Content-Type': 'application/json'}\n",
    "    resp1 = requests.post(url=url1, data=json.dumps(data), headers=headers1)\n",
    "    resp1_body = resp1.json()    \n",
    "    for e1 in resp1_body['token']['catalog']:\n",
    "        if(e1['type']=='object-store'):\n",
    "            for e2 in e1['endpoints']:\n",
    "                if(e2['interface']=='public'):\n",
    "                    url2 = ''.join([e2['url'],'/', credentials['container'], '/', credentials['filename']])\n",
    "    s_subject_token = resp1.headers['x-subject-token']\n",
    "    headers2 = {'X-Auth-Token': s_subject_token, 'accept': 'application/json'}\n",
    "    resp2 = requests.get(url=url2, headers=headers2)\n",
    "    return StringIO.StringIO(resp2.content)"
   ]
  },
  {
   "cell_type": "markdown",
   "metadata": {},
   "source": [
    "### Step 3: Insert data source credentials\n",
    "\n",
    "Click on the plus button (**+**) in the notebook **Toolbar** to create a new cell. Click the newly created cell and select **INSERT TO CODE** of the precipitation.csv file in the **Data Source** Panel of the **Palette**. The neccesary credentials for accessing precipitation.csv will then be pasted into the code cell. With the credentials for the precipitation.csv file, you can use the helper function read it into a `pandas` `DataFrame`."
   ]
  },
  {
   "cell_type": "code",
   "execution_count": 146,
   "metadata": {
    "collapsed": true
   },
   "outputs": [],
   "source": [
    "credentials = {\"tenant_id\": \"sa2f-bd0511e71a61b9-b13d3c6759b7\",\n",
    "    \"tenant_id_full\": \"8d7c71dc-695d-4e71-aa2f-bd0511e71a61_553e8ca9-1029-44f8-8fb9-b13d3c6759b7\",\n",
    "    \"cluster_master_url\": \"https://169.54.219.20:8443\",\n",
    "    \"instance_id\": \"8d7c71dc-695d-4e71-aa2f-bd0511e71a61\",\n",
    "    \"tenant_secret\": \"78101743-150f-4b7a-97a2-7ead689959cb\",\n",
    "    \"plan\": \"ibm.SparkService.PayGoPersonalInteractive\"}\n",
    "credentials['auth_url'] = 'https://identity.open.softlayer.com'\n",
    "credentials['domain_id'] = 'd433595fc02841f6aae1c485bfa15cbf'\n",
    "credentials['username'] = 'user_210a29aa1372fdb97b8137765731325e81694d7b'\n",
    "credentials['password'] = 'ES)*/lu1W94CPL&Q'\n",
    "credentials['filename'] = 'Restaurant_Inspection_Scores.csv'\n",
    "credentials['container'] = 'notebooks'"
   ]
  },
  {
   "cell_type": "code",
   "execution_count": 148,
   "metadata": {
    "collapsed": false
   },
   "outputs": [],
   "source": [
    "content_string = getFileContent(credentials)\n",
    "df = pd.read_csv(content_string)"
   ]
  },
  {
   "cell_type": "markdown",
   "metadata": {},
   "source": [
    "## Explore and Clean Data\n",
    "Now that we have the data in memory, we can explore and manipulate it."
   ]
  },
  {
   "cell_type": "code",
   "execution_count": 149,
   "metadata": {
    "collapsed": false
   },
   "outputs": [
    {
     "data": {
      "text/plain": [
       "Restaurant Name        22616\n",
       "Zip Code               22616\n",
       "Inspection Date        22616\n",
       "Score                  22616\n",
       "Address                22616\n",
       "Facility ID            22616\n",
       "Process Description    22616\n",
       "dtype: int64"
      ]
     },
     "execution_count": 149,
     "metadata": {},
     "output_type": "execute_result"
    }
   ],
   "source": [
    "df.count()"
   ]
  },
  {
   "cell_type": "code",
   "execution_count": 150,
   "metadata": {
    "collapsed": false
   },
   "outputs": [
    {
     "data": {
      "text/html": [
       "<div style=\"max-height:1000px;max-width:1500px;overflow:auto;\">\n",
       "<table border=\"1\" class=\"dataframe\">\n",
       "  <thead>\n",
       "    <tr style=\"text-align: right;\">\n",
       "      <th></th>\n",
       "      <th>Restaurant Name</th>\n",
       "      <th>Zip Code</th>\n",
       "      <th>Inspection Date</th>\n",
       "      <th>Score</th>\n",
       "      <th>Address</th>\n",
       "      <th>Facility ID</th>\n",
       "      <th>Process Description</th>\n",
       "    </tr>\n",
       "  </thead>\n",
       "  <tbody>\n",
       "    <tr>\n",
       "      <th>22614</th>\n",
       "      <td> ZuZu Restaurant</td>\n",
       "      <td> 78731</td>\n",
       "      <td> 09/22/2015</td>\n",
       "      <td> 93</td>\n",
       "      <td> 5770 N MOPAC EXPY\\nAUSTIN, TX 78731\\n(30.33880...</td>\n",
       "      <td> 2801238</td>\n",
       "      <td> Routine Inspection</td>\n",
       "    </tr>\n",
       "    <tr>\n",
       "      <th>22615</th>\n",
       "      <td> ZuZu Restaurant</td>\n",
       "      <td> 78731</td>\n",
       "      <td> 12/09/2014</td>\n",
       "      <td> 97</td>\n",
       "      <td> 5770 N MOPAC EXPY\\nAUSTIN, TX 78731\\n(30.33880...</td>\n",
       "      <td> 2801238</td>\n",
       "      <td> Routine Inspection</td>\n",
       "    </tr>\n",
       "  </tbody>\n",
       "</table>\n",
       "</div>"
      ],
      "text/plain": [
       "       Restaurant Name  Zip Code Inspection Date  Score  \\\n",
       "22614  ZuZu Restaurant     78731      09/22/2015     93   \n",
       "22615  ZuZu Restaurant     78731      12/09/2014     97   \n",
       "\n",
       "                                                 Address  Facility ID  \\\n",
       "22614  5770 N MOPAC EXPY\\nAUSTIN, TX 78731\\n(30.33880...      2801238   \n",
       "22615  5770 N MOPAC EXPY\\nAUSTIN, TX 78731\\n(30.33880...      2801238   \n",
       "\n",
       "      Process Description  \n",
       "22614  Routine Inspection  \n",
       "22615  Routine Inspection  "
      ]
     },
     "execution_count": 150,
     "metadata": {},
     "output_type": "execute_result"
    }
   ],
   "source": [
    "df.tail(2)"
   ]
  },
  {
   "cell_type": "code",
   "execution_count": 151,
   "metadata": {
    "collapsed": false
   },
   "outputs": [
    {
     "data": {
      "text/plain": [
       "(22616, 7)"
      ]
     },
     "execution_count": 151,
     "metadata": {},
     "output_type": "execute_result"
    }
   ],
   "source": [
    "df.dropna().shape"
   ]
  },
  {
   "cell_type": "code",
   "execution_count": 152,
   "metadata": {
    "collapsed": false
   },
   "outputs": [],
   "source": [
    "df.fillna(0, inplace=True)"
   ]
  },
  {
   "cell_type": "markdown",
   "metadata": {},
   "source": [
    "So what does the cleaned precipitation data look like? We can peek at the data and its structure by looking at the first few rows.  The `DataFrame's` `head()` method exists for this purpose."
   ]
  },
  {
   "cell_type": "code",
   "execution_count": 153,
   "metadata": {
    "collapsed": false
   },
   "outputs": [
    {
     "data": {
      "text/html": [
       "<div style=\"max-height:1000px;max-width:1500px;overflow:auto;\">\n",
       "<table border=\"1\" class=\"dataframe\">\n",
       "  <thead>\n",
       "    <tr style=\"text-align: right;\">\n",
       "      <th></th>\n",
       "      <th>Restaurant Name</th>\n",
       "      <th>Zip Code</th>\n",
       "      <th>Inspection Date</th>\n",
       "      <th>Score</th>\n",
       "      <th>Address</th>\n",
       "      <th>Facility ID</th>\n",
       "      <th>Process Description</th>\n",
       "    </tr>\n",
       "  </thead>\n",
       "  <tbody>\n",
       "    <tr>\n",
       "      <th>0</th>\n",
       "      <td> 15th Street Cafe</td>\n",
       "      <td> 78701</td>\n",
       "      <td> 12/05/2013</td>\n",
       "      <td>  97</td>\n",
       "      <td> 303 W 15TH ST\\nAUSTIN, TX 78701\\n(30.277501963...</td>\n",
       "      <td>  2801033</td>\n",
       "      <td> Routine Inspection</td>\n",
       "    </tr>\n",
       "    <tr>\n",
       "      <th>1</th>\n",
       "      <td> 15th Street Cafe</td>\n",
       "      <td> 78701</td>\n",
       "      <td> 12/02/2014</td>\n",
       "      <td>  93</td>\n",
       "      <td> 303 W 15TH ST\\nAUSTIN, TX 78701\\n(30.277501963...</td>\n",
       "      <td>  2801033</td>\n",
       "      <td> Routine Inspection</td>\n",
       "    </tr>\n",
       "    <tr>\n",
       "      <th>2</th>\n",
       "      <td> 15th Street Cafe</td>\n",
       "      <td> 78701</td>\n",
       "      <td> 06/18/2014</td>\n",
       "      <td>  97</td>\n",
       "      <td> 303 W 15TH ST\\nAUSTIN, TX 78701\\n(30.277501963...</td>\n",
       "      <td>  2801033</td>\n",
       "      <td> Routine Inspection</td>\n",
       "    </tr>\n",
       "    <tr>\n",
       "      <th>3</th>\n",
       "      <td> 15th Street Cafe</td>\n",
       "      <td> 78701</td>\n",
       "      <td> 05/22/2013</td>\n",
       "      <td>  91</td>\n",
       "      <td> 303 W 15TH ST\\nAUSTIN, TX 78701\\n(30.277501963...</td>\n",
       "      <td>  2801033</td>\n",
       "      <td> Routine Inspection</td>\n",
       "    </tr>\n",
       "    <tr>\n",
       "      <th>4</th>\n",
       "      <td> 15th Street Cafe</td>\n",
       "      <td> 78701</td>\n",
       "      <td> 05/13/2015</td>\n",
       "      <td>  97</td>\n",
       "      <td> 303 W 15TH ST\\nAUSTIN, TX 78701\\n(30.277501963...</td>\n",
       "      <td>  2801033</td>\n",
       "      <td> Routine Inspection</td>\n",
       "    </tr>\n",
       "    <tr>\n",
       "      <th>5</th>\n",
       "      <td>    1st Food Mart</td>\n",
       "      <td> 78704</td>\n",
       "      <td> 07/29/2014</td>\n",
       "      <td>  90</td>\n",
       "      <td> 1410 S 1ST ST\\nAUSTIN, TX 78704\\n(30.250358861...</td>\n",
       "      <td> 10677646</td>\n",
       "      <td> Routine Inspection</td>\n",
       "    </tr>\n",
       "    <tr>\n",
       "      <th>6</th>\n",
       "      <td>    1st Food Mart</td>\n",
       "      <td> 78704</td>\n",
       "      <td> 01/16/2014</td>\n",
       "      <td>  90</td>\n",
       "      <td> 1410 S 1ST ST\\nAUSTIN, TX 78704\\n(30.250358861...</td>\n",
       "      <td> 10677646</td>\n",
       "      <td> Routine Inspection</td>\n",
       "    </tr>\n",
       "    <tr>\n",
       "      <th>7</th>\n",
       "      <td>    1st Food Mart</td>\n",
       "      <td> 78704</td>\n",
       "      <td> 02/09/2015</td>\n",
       "      <td>  94</td>\n",
       "      <td> 1410 S 1ST ST\\nAUSTIN, TX 78704\\n(30.250358861...</td>\n",
       "      <td> 10677646</td>\n",
       "      <td> Routine Inspection</td>\n",
       "    </tr>\n",
       "    <tr>\n",
       "      <th>8</th>\n",
       "      <td>    1st Food Mart</td>\n",
       "      <td> 78704</td>\n",
       "      <td> 07/27/2015</td>\n",
       "      <td>  94</td>\n",
       "      <td> 1410 S 1ST ST\\nAUSTIN, TX 78704\\n(30.250358861...</td>\n",
       "      <td> 10677646</td>\n",
       "      <td> Routine Inspection</td>\n",
       "    </tr>\n",
       "    <tr>\n",
       "      <th>9</th>\n",
       "      <td>    1st Food Mart</td>\n",
       "      <td> 78704</td>\n",
       "      <td> 06/17/2013</td>\n",
       "      <td> 100</td>\n",
       "      <td> 1410 S 1ST ST\\nAUSTIN, TX 78704\\n(30.250358861...</td>\n",
       "      <td> 10677646</td>\n",
       "      <td> Routine Inspection</td>\n",
       "    </tr>\n",
       "  </tbody>\n",
       "</table>\n",
       "</div>"
      ],
      "text/plain": [
       "    Restaurant Name  Zip Code Inspection Date  Score  \\\n",
       "0  15th Street Cafe     78701      12/05/2013     97   \n",
       "1  15th Street Cafe     78701      12/02/2014     93   \n",
       "2  15th Street Cafe     78701      06/18/2014     97   \n",
       "3  15th Street Cafe     78701      05/22/2013     91   \n",
       "4  15th Street Cafe     78701      05/13/2015     97   \n",
       "5     1st Food Mart     78704      07/29/2014     90   \n",
       "6     1st Food Mart     78704      01/16/2014     90   \n",
       "7     1st Food Mart     78704      02/09/2015     94   \n",
       "8     1st Food Mart     78704      07/27/2015     94   \n",
       "9     1st Food Mart     78704      06/17/2013    100   \n",
       "\n",
       "                                             Address  Facility ID  \\\n",
       "0  303 W 15TH ST\\nAUSTIN, TX 78701\\n(30.277501963...      2801033   \n",
       "1  303 W 15TH ST\\nAUSTIN, TX 78701\\n(30.277501963...      2801033   \n",
       "2  303 W 15TH ST\\nAUSTIN, TX 78701\\n(30.277501963...      2801033   \n",
       "3  303 W 15TH ST\\nAUSTIN, TX 78701\\n(30.277501963...      2801033   \n",
       "4  303 W 15TH ST\\nAUSTIN, TX 78701\\n(30.277501963...      2801033   \n",
       "5  1410 S 1ST ST\\nAUSTIN, TX 78704\\n(30.250358861...     10677646   \n",
       "6  1410 S 1ST ST\\nAUSTIN, TX 78704\\n(30.250358861...     10677646   \n",
       "7  1410 S 1ST ST\\nAUSTIN, TX 78704\\n(30.250358861...     10677646   \n",
       "8  1410 S 1ST ST\\nAUSTIN, TX 78704\\n(30.250358861...     10677646   \n",
       "9  1410 S 1ST ST\\nAUSTIN, TX 78704\\n(30.250358861...     10677646   \n",
       "\n",
       "  Process Description  \n",
       "0  Routine Inspection  \n",
       "1  Routine Inspection  \n",
       "2  Routine Inspection  \n",
       "3  Routine Inspection  \n",
       "4  Routine Inspection  \n",
       "5  Routine Inspection  \n",
       "6  Routine Inspection  \n",
       "7  Routine Inspection  \n",
       "8  Routine Inspection  \n",
       "9  Routine Inspection  "
      ]
     },
     "execution_count": 153,
     "metadata": {},
     "output_type": "execute_result"
    }
   ],
   "source": [
    "df.head(10)"
   ]
  },
  {
   "cell_type": "code",
   "execution_count": 154,
   "metadata": {
    "collapsed": false,
    "scrolled": true
   },
   "outputs": [
    {
     "data": {
      "text/plain": [
       "array([78701, 78701, 78701, ..., 78731, 78731, 78731])"
      ]
     },
     "execution_count": 154,
     "metadata": {},
     "output_type": "execute_result"
    }
   ],
   "source": [
    "df['Zip Code'].values"
   ]
  },
  {
   "cell_type": "code",
   "execution_count": 155,
   "metadata": {
    "collapsed": false
   },
   "outputs": [
    {
     "data": {
      "text/plain": [
       "array(['Routine Inspection', '1st Follow Up to Routine of 50 - 69',\n",
       "       '2nd Follow Up to 50 - 69', '1st Follow Up to Routine of 49 or less'], dtype=object)"
      ]
     },
     "execution_count": 155,
     "metadata": {},
     "output_type": "execute_result"
    }
   ],
   "source": [
    "df['Process Description'].unique()"
   ]
  },
  {
   "cell_type": "markdown",
   "metadata": {},
   "source": [
    "### Plot\n",
    "When working with interactive notebooks, you can decide how to present results and information. So far, we have used normal print functions which are informative. We can also choose a visual way, using the popular [`matplotlib`](http://matplotlib.org/) package to produce plots.\n",
    "\n",
    "First, tell Jupyter to render charts inline:"
   ]
  },
  {
   "cell_type": "code",
   "execution_count": 156,
   "metadata": {
    "collapsed": true
   },
   "outputs": [],
   "source": [
    "%matplotlib inline "
   ]
  },
  {
   "cell_type": "code",
   "execution_count": 157,
   "metadata": {
    "collapsed": true
   },
   "outputs": [],
   "source": [
    "import matplotlib.pyplot as plt\n",
    "import matplotlib\n",
    "matplotlib.style.use('ggplot')"
   ]
  },
  {
   "cell_type": "code",
   "execution_count": 158,
   "metadata": {
    "collapsed": false,
    "scrolled": true
   },
   "outputs": [
    {
     "data": {
      "image/png": "[encoded data removed]",
      "text/plain": [
       "<matplotlib.figure.Figure at 0x7fe33b841f50>"
      ]
     },
     "metadata": {},
     "output_type": "display_data"
    }
   ],
   "source": [
    "df.plot(kind='scatter', x='Zip Code', y='Score', title = 'Score of Restaurant Inspection between 2012 to 2015');"
   ]
  },
  {
   "cell_type": "raw",
   "metadata": {},
   "source": [
    "## Raise Questions\n",
    "We explored and prepared the raw data. Now, we can raise more complex questions and make use of the data to answer them.\n",
    "### Question: What is the average inspection score of each area (Zip Code) of Austin?"
   ]
  },
  {
   "cell_type": "code",
   "execution_count": 163,
   "metadata": {
    "collapsed": false
   },
   "outputs": [],
   "source": [
    "df_set = pd.DataFrame(df, columns=['Zip Code', 'Score'])\n",
    "grouped = df_set.groupby('Zip Code')"
   ]
  },
  {
   "cell_type": "code",
   "execution_count": 164,
   "metadata": {
    "collapsed": false
   },
   "outputs": [
    {
     "data": {
      "text/html": [
       "<div style=\"max-height:1000px;max-width:1500px;overflow:auto;\">\n",
       "<table border=\"1\" class=\"dataframe\">\n",
       "  <thead>\n",
       "    <tr style=\"text-align: right;\">\n",
       "      <th></th>\n",
       "      <th>Score</th>\n",
       "    </tr>\n",
       "    <tr>\n",
       "      <th>Zip Code</th>\n",
       "      <th></th>\n",
       "    </tr>\n",
       "  </thead>\n",
       "  <tbody>\n",
       "    <tr>\n",
       "      <th>78610</th>\n",
       "      <td> 97.142857</td>\n",
       "    </tr>\n",
       "    <tr>\n",
       "      <th>78612</th>\n",
       "      <td> 81.166667</td>\n",
       "    </tr>\n",
       "    <tr>\n",
       "      <th>78613</th>\n",
       "      <td> 93.209677</td>\n",
       "    </tr>\n",
       "    <tr>\n",
       "      <th>78615</th>\n",
       "      <td> 85.200000</td>\n",
       "    </tr>\n",
       "    <tr>\n",
       "      <th>78617</th>\n",
       "      <td> 92.344961</td>\n",
       "    </tr>\n",
       "    <tr>\n",
       "      <th>78620</th>\n",
       "      <td> 91.833333</td>\n",
       "    </tr>\n",
       "    <tr>\n",
       "      <th>78621</th>\n",
       "      <td> 97.333333</td>\n",
       "    </tr>\n",
       "    <tr>\n",
       "      <th>78641</th>\n",
       "      <td> 95.656250</td>\n",
       "    </tr>\n",
       "    <tr>\n",
       "      <th>78652</th>\n",
       "      <td> 96.300000</td>\n",
       "    </tr>\n",
       "    <tr>\n",
       "      <th>78653</th>\n",
       "      <td> 94.218391</td>\n",
       "    </tr>\n",
       "    <tr>\n",
       "      <th>78654</th>\n",
       "      <td> 96.000000</td>\n",
       "    </tr>\n",
       "    <tr>\n",
       "      <th>78660</th>\n",
       "      <td> 92.128205</td>\n",
       "    </tr>\n",
       "    <tr>\n",
       "      <th>78669</th>\n",
       "      <td> 93.000000</td>\n",
       "    </tr>\n",
       "    <tr>\n",
       "      <th>78701</th>\n",
       "      <td> 87.969198</td>\n",
       "    </tr>\n",
       "    <tr>\n",
       "      <th>78702</th>\n",
       "      <td> 90.651405</td>\n",
       "    </tr>\n",
       "    <tr>\n",
       "      <th>78703</th>\n",
       "      <td> 91.224449</td>\n",
       "    </tr>\n",
       "    <tr>\n",
       "      <th>78704</th>\n",
       "      <td> 90.728935</td>\n",
       "    </tr>\n",
       "    <tr>\n",
       "      <th>78705</th>\n",
       "      <td> 92.575274</td>\n",
       "    </tr>\n",
       "    <tr>\n",
       "      <th>78717</th>\n",
       "      <td> 93.216667</td>\n",
       "    </tr>\n",
       "    <tr>\n",
       "      <th>78719</th>\n",
       "      <td> 92.662338</td>\n",
       "    </tr>\n",
       "    <tr>\n",
       "      <th>78721</th>\n",
       "      <td> 91.729167</td>\n",
       "    </tr>\n",
       "    <tr>\n",
       "      <th>78722</th>\n",
       "      <td> 90.879227</td>\n",
       "    </tr>\n",
       "    <tr>\n",
       "      <th>78723</th>\n",
       "      <td> 91.706081</td>\n",
       "    </tr>\n",
       "    <tr>\n",
       "      <th>78724</th>\n",
       "      <td> 92.006536</td>\n",
       "    </tr>\n",
       "    <tr>\n",
       "      <th>78725</th>\n",
       "      <td> 94.166667</td>\n",
       "    </tr>\n",
       "    <tr>\n",
       "      <th>78726</th>\n",
       "      <td> 94.906475</td>\n",
       "    </tr>\n",
       "    <tr>\n",
       "      <th>78727</th>\n",
       "      <td> 93.002717</td>\n",
       "    </tr>\n",
       "    <tr>\n",
       "      <th>78728</th>\n",
       "      <td> 92.041096</td>\n",
       "    </tr>\n",
       "    <tr>\n",
       "      <th>78729</th>\n",
       "      <td> 91.351598</td>\n",
       "    </tr>\n",
       "    <tr>\n",
       "      <th>78730</th>\n",
       "      <td> 95.608696</td>\n",
       "    </tr>\n",
       "    <tr>\n",
       "      <th>78731</th>\n",
       "      <td> 93.794521</td>\n",
       "    </tr>\n",
       "    <tr>\n",
       "      <th>78732</th>\n",
       "      <td> 95.393574</td>\n",
       "    </tr>\n",
       "    <tr>\n",
       "      <th>78733</th>\n",
       "      <td> 93.819672</td>\n",
       "    </tr>\n",
       "    <tr>\n",
       "      <th>78734</th>\n",
       "      <td> 92.943020</td>\n",
       "    </tr>\n",
       "    <tr>\n",
       "      <th>78735</th>\n",
       "      <td> 92.264798</td>\n",
       "    </tr>\n",
       "    <tr>\n",
       "      <th>78736</th>\n",
       "      <td> 91.473684</td>\n",
       "    </tr>\n",
       "    <tr>\n",
       "      <th>78737</th>\n",
       "      <td> 95.098039</td>\n",
       "    </tr>\n",
       "    <tr>\n",
       "      <th>78738</th>\n",
       "      <td> 93.560000</td>\n",
       "    </tr>\n",
       "    <tr>\n",
       "      <th>78739</th>\n",
       "      <td> 94.193548</td>\n",
       "    </tr>\n",
       "    <tr>\n",
       "      <th>78741</th>\n",
       "      <td> 87.992997</td>\n",
       "    </tr>\n",
       "    <tr>\n",
       "      <th>78742</th>\n",
       "      <td> 94.739130</td>\n",
       "    </tr>\n",
       "    <tr>\n",
       "      <th>78743</th>\n",
       "      <td> 94.833333</td>\n",
       "    </tr>\n",
       "    <tr>\n",
       "      <th>78744</th>\n",
       "      <td> 90.922078</td>\n",
       "    </tr>\n",
       "    <tr>\n",
       "      <th>78745</th>\n",
       "      <td> 89.761290</td>\n",
       "    </tr>\n",
       "    <tr>\n",
       "      <th>78746</th>\n",
       "      <td> 92.877667</td>\n",
       "    </tr>\n",
       "    <tr>\n",
       "      <th>78747</th>\n",
       "      <td> 89.134328</td>\n",
       "    </tr>\n",
       "    <tr>\n",
       "      <th>78748</th>\n",
       "      <td> 91.311688</td>\n",
       "    </tr>\n",
       "    <tr>\n",
       "      <th>78749</th>\n",
       "      <td> 93.260553</td>\n",
       "    </tr>\n",
       "    <tr>\n",
       "      <th>78750</th>\n",
       "      <td> 92.823096</td>\n",
       "    </tr>\n",
       "    <tr>\n",
       "      <th>78751</th>\n",
       "      <td> 92.800000</td>\n",
       "    </tr>\n",
       "    <tr>\n",
       "      <th>78752</th>\n",
       "      <td> 90.300221</td>\n",
       "    </tr>\n",
       "    <tr>\n",
       "      <th>78753</th>\n",
       "      <td> 90.587342</td>\n",
       "    </tr>\n",
       "    <tr>\n",
       "      <th>78754</th>\n",
       "      <td> 94.633028</td>\n",
       "    </tr>\n",
       "    <tr>\n",
       "      <th>78756</th>\n",
       "      <td> 94.000000</td>\n",
       "    </tr>\n",
       "    <tr>\n",
       "      <th>78757</th>\n",
       "      <td> 92.356718</td>\n",
       "    </tr>\n",
       "    <tr>\n",
       "      <th>78758</th>\n",
       "      <td> 91.082483</td>\n",
       "    </tr>\n",
       "    <tr>\n",
       "      <th>78759</th>\n",
       "      <td> 92.122056</td>\n",
       "    </tr>\n",
       "  </tbody>\n",
       "</table>\n",
       "</div>"
      ],
      "text/plain": [
       "              Score\n",
       "Zip Code           \n",
       "78610     97.142857\n",
       "78612     81.166667\n",
       "78613     93.209677\n",
       "78615     85.200000\n",
       "78617     92.344961\n",
       "78620     91.833333\n",
       "78621     97.333333\n",
       "78641     95.656250\n",
       "78652     96.300000\n",
       "78653     94.218391\n",
       "78654     96.000000\n",
       "78660     92.128205\n",
       "78669     93.000000\n",
       "78701     87.969198\n",
       "78702     90.651405\n",
       "78703     91.224449\n",
       "78704     90.728935\n",
       "78705     92.575274\n",
       "78717     93.216667\n",
       "78719     92.662338\n",
       "78721     91.729167\n",
       "78722     90.879227\n",
       "78723     91.706081\n",
       "78724     92.006536\n",
       "78725     94.166667\n",
       "78726     94.906475\n",
       "78727     93.002717\n",
       "78728     92.041096\n",
       "78729     91.351598\n",
       "78730     95.608696\n",
       "78731     93.794521\n",
       "78732     95.393574\n",
       "78733     93.819672\n",
       "78734     92.943020\n",
       "78735     92.264798\n",
       "78736     91.473684\n",
       "78737     95.098039\n",
       "78738     93.560000\n",
       "78739     94.193548\n",
       "78741     87.992997\n",
       "78742     94.739130\n",
       "78743     94.833333\n",
       "78744     90.922078\n",
       "78745     89.761290\n",
       "78746     92.877667\n",
       "78747     89.134328\n",
       "78748     91.311688\n",
       "78749     93.260553\n",
       "78750     92.823096\n",
       "78751     92.800000\n",
       "78752     90.300221\n",
       "78753     90.587342\n",
       "78754     94.633028\n",
       "78756     94.000000\n",
       "78757     92.356718\n",
       "78758     91.082483\n",
       "78759     92.122056"
      ]
     },
     "execution_count": 164,
     "metadata": {},
     "output_type": "execute_result"
    }
   ],
   "source": [
    "grouped.mean()"
   ]
  },
  {
   "cell_type": "markdown",
   "metadata": {},
   "source": [
    "## Download Notebooks\n",
    "After performing an analysis, you can download your results and insights.  In the **Menu Bar**, go to **File** and then to **Download as**. It is possible to download notebooks in various formats to your local file system."
   ]
  },
  {
   "cell_type": "markdown",
   "metadata": {
    "collapsed": false
   },
   "source": [
    "## You want to know more?\n",
    "There are interesting tutorials on YouTube:\n",
    "\n",
    "[PyData 2015 - Introduction to Pandas](https://www.youtube.com/watch?v=TSsSWuhBpmY)\n",
    "\n",
    "[Matplotlib Python Tutorial](https://www.youtube.com/watch?v=wAwQ-noyB98)\n",
    "\n",
    "Please check out our [Learning Center](https://developer.ibm.com/clouddataservices/docs/spark/) for more samples, tutorials, documentation, how-tos and blog posts."
   ]
  }
 ],
 "metadata": {
  "kernelspec": {
   "display_name": "Python 2",
   "language": "python",
   "name": "python2"
  },
  "language_info": {
   "codemirror_mode": {
    "name": "ipython",
    "version": 2
   },
   "file_extension": ".py",
   "mimetype": "text/x-python",
   "name": "python",
   "nbconvert_exporter": "python",
   "pygments_lexer": "ipython2",
   "version": "2.7.9"
  }
 },
 "nbformat": 4,
 "nbformat_minor": 0
}